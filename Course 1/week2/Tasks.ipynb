{
 "cells": [
  {
   "cell_type": "markdown",
   "metadata": {},
   "source": [
    "## Task 1"
   ]
  },
  {
   "cell_type": "code",
   "execution_count": 2,
   "metadata": {},
   "outputs": [
    {
     "name": "stdout",
     "output_type": "stream",
     "text": [
      "7 5\n"
     ]
    }
   ],
   "source": [
    "import re\n",
    "import numpy as np\n",
    "from scipy.spatial.distance import cosine\n",
    "\n",
    "sentences = []\n",
    "dictionary = dict()\n",
    "q = 0\n",
    "with open('sentences.txt', 'r') as file:\n",
    "    for line in file:\n",
    "        line = re.split('[^a-z]', line.lower())\n",
    "        line = list(filter(lambda s: s != '', line))\n",
    "        for w in line:\n",
    "            if not w in dictionary:\n",
    "                dictionary[w] = q\n",
    "                q += 1\n",
    "        sentences.append(line)\n",
    "\n",
    "n = len(sentences)\n",
    "d = len(dictionary)\n",
    "m = np.zeros((n, d))\n",
    "for i in np.arange(n):\n",
    "    j = 0\n",
    "    for w in sentences[i]:\n",
    "        m[i][dictionary[w]] += 1\n",
    "        \n",
    "dist = []\n",
    "for i in np.arange(1, n):\n",
    "    cur_dist = cosine(m[0, :], m[i, :])\n",
    "    dist.append((cur_dist, i))\n",
    "    \n",
    "dist = sorted(dist)\n",
    "print dist[0][1] + 1, dist[1][1] + 1"
   ]
  },
  {
   "cell_type": "markdown",
   "metadata": {},
   "source": [
    "## Task 2"
   ]
  },
  {
   "cell_type": "code",
   "execution_count": 4,
   "metadata": {},
   "outputs": [
    {
     "name": "stdout",
     "output_type": "stream",
     "text": [
      "[ 3.43914511 -0.18692825]\n",
      "[ 3.32512949 -0.06531159 -0.00760104]\n",
      "[ 4.36264154 -1.29552587  0.19333685 -0.00823565]\n"
     ]
    }
   ],
   "source": [
    "from math import sin, exp\n",
    "\n",
    "def f(x):\n",
    "    return sin(x / 5.) * exp(x / 10.) + 5 * exp(-x / 2.)\n",
    "\n",
    "A2 = np.array([[1, 1], [1, 15]])\n",
    "b2 = np.array([f(1), f(15)])\n",
    "x2 = np.linalg.solve(A2, b2)\n",
    "print x2\n",
    "\n",
    "A3 = np.array([[1, 1, 1], [1, 8, 64], [1, 15, 225]])\n",
    "b3 = np.array([f(1), f(8), f(15)])\n",
    "x3 = np.linalg.solve(A3, b3)\n",
    "print x3\n",
    "\n",
    "A4 = np.array([[1, 1, 1, 1], [1, 4, 16, 64], [1, 10, 100, 1000], [1, 15, 225, 3375]])\n",
    "b4 = np.array([f(1), f(4), f(10), f(15)])\n",
    "x4 = np.linalg.solve(A4, b4)\n",
    "print x4\n"
   ]
  },
  {
   "cell_type": "code",
   "execution_count": 7,
   "metadata": {},
   "outputs": [
    {
     "name": "stdout",
     "output_type": "stream",
     "text": [
      "6\n",
      "0 1\n"
     ]
    },
    {
     "ename": "SyntaxError",
     "evalue": "unexpected EOF while parsing (<string>, line 1)",
     "output_type": "error",
     "traceback": [
      "\u001b[0;36m  File \u001b[0;32m\"<string>\"\u001b[0;36m, line \u001b[0;32m1\u001b[0m\n\u001b[0;31m    0 1\u001b[0m\n\u001b[0m      ^\u001b[0m\n\u001b[0;31mSyntaxError\u001b[0m\u001b[0;31m:\u001b[0m unexpected EOF while parsing\n"
     ]
    }
   ],
   "source": [
    "import numpy as np\n",
    "n = int(input())\n",
    "a = np.ones((n, n))\n",
    "b = np.ones((n, 1))\n",
    "for i in range(n):\n",
    "    x, b[i] = [float(i) for i in input().split()]\n",
    "    for j in range(1, n):\n",
    "        a[i][j] = a[i][j - 1] * x\n",
    "ans = np.linalg.solve(a, b)\n",
    "ans = [i[0] for i in ans]\n",
    "print ' '.join(ans)"
   ]
  },
  {
   "cell_type": "code",
   "execution_count": null,
   "metadata": {
    "collapsed": true
   },
   "outputs": [],
   "source": []
  }
 ],
 "metadata": {
  "kernelspec": {
   "display_name": "Python 2",
   "language": "python",
   "name": "python2"
  },
  "language_info": {
   "codemirror_mode": {
    "name": "ipython",
    "version": 2
   },
   "file_extension": ".py",
   "mimetype": "text/x-python",
   "name": "python",
   "nbconvert_exporter": "python",
   "pygments_lexer": "ipython2",
   "version": "2.7.14"
  }
 },
 "nbformat": 4,
 "nbformat_minor": 2
}
