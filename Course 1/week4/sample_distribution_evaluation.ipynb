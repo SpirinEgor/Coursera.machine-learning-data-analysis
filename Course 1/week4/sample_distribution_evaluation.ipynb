{
 "cells": [
  {
   "cell_type": "code",
   "execution_count": 1,
   "metadata": {},
   "outputs": [],
   "source": [
    "import pandas as pd\n",
    "import numpy as np\n",
    "import matplotlib.pyplot as plt\n",
    "import scipy.stats as sts\n",
    "%matplotlib inline"
   ]
  },
  {
   "cell_type": "markdown",
   "metadata": {},
   "source": [
    "# Дискретное распределение"
   ]
  },
  {
   "cell_type": "markdown",
   "metadata": {},
   "source": [
    "Сгенерируем выборку объёма 100 из дискретного распределения с шестью равновероятными исходами."
   ]
  },
  {
   "cell_type": "code",
   "execution_count": 2,
   "metadata": {
    "collapsed": true
   },
   "outputs": [],
   "source": [
    "sample = np.random.choice([1,2,3,4,5,6], 100)"
   ]
  },
  {
   "cell_type": "markdown",
   "metadata": {},
   "source": [
    "Представим теперь, что эта выборка была получена не искусственно, а путём подбрасывания симметричного шестигранного кубика 100 раз. Оценим вероятности выпадения каждой из сторон с помощью частот:"
   ]
  },
  {
   "cell_type": "code",
   "execution_count": 3,
   "metadata": {
    "scrolled": true
   },
   "outputs": [
    {
     "name": "stdout",
     "output_type": "stream",
     "text": [
      "Число выпадений каждой из сторон:\n",
      "Counter({4: 25, 5: 18, 1: 16, 3: 14, 6: 14, 2: 13})\n",
      "Вероятности выпадений каждой из сторон:\n",
      "{1: 0.16, 2: 0.13, 3: 0.14, 4: 0.25, 5: 0.18, 6: 0.14}\n"
     ]
    }
   ],
   "source": [
    "# посчитаем число выпадений каждой из сторон:\n",
    "from collections import Counter\n",
    "\n",
    "c = Counter(sample)\n",
    "\n",
    "print(\"Число выпадений каждой из сторон:\")    \n",
    "print(c)\n",
    "\n",
    "# теперь поделим на общее число подбрасываний и получим вероятности:\n",
    "print(\"Вероятности выпадений каждой из сторон:\")\n",
    "print({k: v/100.0 for k, v in c.items()})"
   ]
  },
  {
   "cell_type": "markdown",
   "metadata": {},
   "source": [
    "Это и есть оценка функции вероятности дискретного распределения."
   ]
  },
  {
   "cell_type": "markdown",
   "metadata": {},
   "source": [
    "# Непрерывное распределение"
   ]
  },
  {
   "cell_type": "markdown",
   "metadata": {},
   "source": [
    "Сгенерируем выборку объёма 100 из стандартного нормального распределения (с $\\mu=0$ и $\\sigma^2=1$):"
   ]
  },
  {
   "cell_type": "code",
   "execution_count": 4,
   "metadata": {},
   "outputs": [],
   "source": [
    "norm_rv = sts.norm(0, 1)\n",
    "sample = norm_rv.rvs(100)"
   ]
  },
  {
   "cell_type": "markdown",
   "metadata": {},
   "source": [
    "Эмпирическая функция распределения для полученной выборки:"
   ]
  },
  {
   "cell_type": "code",
   "execution_count": 5,
   "metadata": {},
   "outputs": [
    {
     "data": {
      "text/plain": [
       "<matplotlib.legend.Legend at 0x7fed348a1950>"
      ]
     },
     "execution_count": 5,
     "metadata": {},
     "output_type": "execute_result"
    },
    {
     "data": {
      "image/png": "[encoded data removed]",
      "text/plain": [
       "<matplotlib.figure.Figure at 0x7fed3c6a5790>"
      ]
     },
     "metadata": {},
     "output_type": "display_data"
    }
   ],
   "source": [
    "x = np.linspace(-4,4,100)\n",
    "cdf = norm_rv.cdf(x)\n",
    "plt.plot(x, cdf, label='theoretical CDF')\n",
    "\n",
    "# для построения ECDF используем библиотеку statsmodels\n",
    "from statsmodels.distributions.empirical_distribution import ECDF\n",
    "ecdf = ECDF(sample)\n",
    "plt.step(ecdf.x, ecdf.y, label='ECDF')\n",
    "\n",
    "plt.ylabel('$f(x)$')\n",
    "plt.xlabel('$x$')\n",
    "plt.legend(loc='upper left')"
   ]
  },
  {
   "cell_type": "markdown",
   "metadata": {},
   "source": [
    "Гистограмма выборки:"
   ]
  },
  {
   "cell_type": "code",
   "execution_count": 6,
   "metadata": {},
   "outputs": [
    {
     "data": {
      "text/plain": [
       "Text(0.5,0,u'$x$')"
      ]
     },
     "execution_count": 6,
     "metadata": {},
     "output_type": "execute_result"
    },
    {
     "data": {
      "image/png": "[encoded data removed]",
      "text/plain": [
       "<matplotlib.figure.Figure at 0x7fed3c6a5110>"
      ]
     },
     "metadata": {},
     "output_type": "display_data"
    }
   ],
   "source": [
    "plt.hist(sample, normed=True)\n",
    "plt.ylabel('fraction of samples')\n",
    "plt.xlabel('$x$')"
   ]
  },
  {
   "cell_type": "markdown",
   "metadata": {},
   "source": [
    "Попробуем задавать число карманов гистограммы вручную:"
   ]
  },
  {
   "cell_type": "code",
   "execution_count": 7,
   "metadata": {},
   "outputs": [
    {
     "data": {
      "text/plain": [
       "Text(0.5,0,u'$x$')"
      ]
     },
     "execution_count": 7,
     "metadata": {},
     "output_type": "execute_result"
    },
    {
     "data": {
      "image/png": "[encoded data removed]",
      "text/plain": [
       "<matplotlib.figure.Figure at 0x7fed346db150>"
      ]
     },
     "metadata": {},
     "output_type": "display_data"
    }
   ],
   "source": [
    "plt.hist(sample, bins=3, normed=True)\n",
    "plt.ylabel('fraction of samples')\n",
    "plt.xlabel('$x$')"
   ]
  },
  {
   "cell_type": "code",
   "execution_count": 8,
   "metadata": {},
   "outputs": [
    {
     "data": {
      "text/plain": [
       "Text(0.5,0,u'$x$')"
      ]
     },
     "execution_count": 8,
     "metadata": {},
     "output_type": "execute_result"
    },
    {
     "data": {
      "image/png": "[encoded data removed]",
      "text/plain": [
       "<matplotlib.figure.Figure at 0x7fed346a62d0>"
      ]
     },
     "metadata": {},
     "output_type": "display_data"
    }
   ],
   "source": [
    "plt.hist(sample, bins=40, normed=True)\n",
    "plt.ylabel('fraction of samples')\n",
    "plt.xlabel('$x$')"
   ]
  },
  {
   "cell_type": "markdown",
   "metadata": {},
   "source": [
    "Эмпирическая оценка плотности, построенная по выборке с помощью ядерного сглаживания:"
   ]
  },
  {
   "cell_type": "code",
   "execution_count": 9,
   "metadata": {},
   "outputs": [
    {
     "data": {
      "text/plain": [
       "Text(0.5,0,u'$x$')"
      ]
     },
     "execution_count": 9,
     "metadata": {},
     "output_type": "execute_result"
    },
    {
     "data": {
      "image/png": "[encoded data removed]",
      "text/plain": [
       "<matplotlib.figure.Figure at 0x7fed346a6850>"
      ]
     },
     "metadata": {},
     "output_type": "display_data"
    }
   ],
   "source": [
    "# для построения используем библиотеку Pandas:\n",
    "df = pd.DataFrame(sample, columns=['KDE'])\n",
    "ax = df.plot(kind='density')\n",
    "\n",
    "# на том же графике построим теоретическую плотность распределения:\n",
    "x = np.linspace(-4,4,100)\n",
    "pdf = norm_rv.pdf(x)\n",
    "plt.plot(x, pdf, label='theoretical pdf', alpha=0.5)\n",
    "plt.legend()\n",
    "plt.ylabel('$f(x)$')\n",
    "plt.xlabel('$x$')"
   ]
  },
  {
   "cell_type": "code",
   "execution_count": null,
   "metadata": {
    "collapsed": true
   },
   "outputs": [],
   "source": []
  }
 ],
 "metadata": {
  "anaconda-cloud": {},
  "kernelspec": {
   "display_name": "Python 2",
   "language": "python",
   "name": "python2"
  },
  "language_info": {
   "codemirror_mode": {
    "name": "ipython",
    "version": 2
   },
   "file_extension": ".py",
   "mimetype": "text/x-python",
   "name": "python",
   "nbconvert_exporter": "python",
   "pygments_lexer": "ipython2",
   "version": "2.7.14"
  }
 },
 "nbformat": 4,
 "nbformat_minor": 1
}
